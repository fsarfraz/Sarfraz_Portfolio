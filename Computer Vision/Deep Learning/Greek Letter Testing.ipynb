{
 "cells": [
  {
   "cell_type": "code",
   "execution_count": 24,
   "id": "b27127ec",
   "metadata": {},
   "outputs": [],
   "source": [
    "import sys\n",
    "import os\n",
    "import glob\n",
    "import cv2 as cv\n",
    "import torch\n",
    "import torch.nn as nn\n",
    "import torch.nn.functional as F\n",
    "import torch.optim as optim\n",
    "import torchvision\n",
    "from torchvision import datasets,transforms\n",
    "import numpy as np\n",
    "import matplotlib.pyplot as plt\n",
    "from torchviz import make_dot, make_dot_from_trace\n",
    "%matplotlib inline\n"
   ]
  },
  {
   "cell_type": "code",
   "execution_count": 41,
   "id": "f6c407df",
   "metadata": {},
   "outputs": [],
   "source": [
    "#Task 3A\n",
    "#Function that takes and reads into a dataloader the greek letters\n",
    "def Greek_Nist_Data():\n",
    "    transform = transforms.Compose([transforms.Resize([28,28]),\n",
    "                                transforms.Grayscale(num_output_channels = 1),\n",
    "                                transforms.ToTensor(), \n",
    "                                transforms.Normalize((0.1307),(0.3081))])\n",
    "    imgnames = ['001', '002', '003', '004', '005','006','007','008', '009']\n",
    "    for i in range(9):\n",
    "        path1 = '/Greek_Nist/alpha/alpha_' + imgnames[i] +'.png'\n",
    "        image1 = cv.imread(path1, cv.IMREAD_GRAYSCALE)\n",
    "        img1 = cv.bitwise_not(image1)\n",
    "        newpath1 = '/Greek_Nist_data/alpha/alpha_' + imgnames[i] + '.png' \n",
    "        cv.imwrite(newpath1,img1)\n",
    "    for i in range(9):\n",
    "        path2 = '/Greek_Nist/beta/beta_' + imgnames[i] +'.png'\n",
    "        image2 = cv.imread(path2, cv.IMREAD_GRAYSCALE)\n",
    "        img2 = cv.bitwise_not(image2)\n",
    "        newpath2 = '/Greek_Nist_data/beta/beta_' + imgnames[i] + '.png'         \n",
    "        cv.imwrite(newpath2,img2)\n",
    "    for i in range(9):\n",
    "        path3 = '/Greek_Nist/gamma/gamma_' + imgnames[i] +'.png'\n",
    "        image3 = cv.imread(path3, cv.IMREAD_GRAYSCALE)\n",
    "        img3 = cv.bitwise_not(image3)\n",
    "        newpath3 = '/Greek_Nist_data/gamma/gamma_' + imgnames[i] + '.png'         \n",
    "        cv.imwrite(newpath3,img3)\n",
    "        \n",
    "    myData = torchvision.datasets.ImageFolder('/Greek_Nist_data/', transform = transform)\n",
    "    set_loader = torch.utils.data.DataLoader(myData,batch_size=27,shuffle = False)\n",
    "    img_data,img_targets = next(iter(set_loader))\n",
    "    \n",
    "    return img_data, img_targets\n",
    "\n",
    "#Task3B : Function prints out one element vector of 50 values\n",
    "def elem_vec(output):  \n",
    "        print(\"Output Size of element vectors:\", output[0].shape, \"\\n\", output[0])\n",
    "        \n",
    "#Task3C: funcion that prints out 27 element vectors of 50 values\n",
    "def elem_vec2(output):\n",
    "        print(\"Output Size of element vectors:\", output.shape, \"\\n\", output)\n",
    "        \n",
    "#Task3D: Function that takes sum squared difference of all 27 images against each one alpha,beta, and gamma image\n",
    "#Also plots the 27 values into a plot to see differences\n",
    "def ssd_al_be_ga(output):\n",
    "    arr = []\n",
    "    ssd_alpha = []\n",
    "    ssd_beta = []\n",
    "    ssd_gamma = []\n",
    "    # alpha\n",
    "    for i in range(27):\n",
    "        arr.append(i)\n",
    "        diff = pow(output[0] - output[i],2)\n",
    "        sum1 = torch.sum(diff)\n",
    "        sum1 = sum1.numpy()/27\n",
    "        sum1 = np.round(sum1,4)\n",
    "        ssd_alpha.append(sum1)\n",
    "\n",
    "    #beta\n",
    "    for i in range(27):\n",
    "        diff = pow(output[9] - output[i],2)\n",
    "        sum2 = torch.sum(diff)\n",
    "        sum2 = sum2.numpy()/27\n",
    "        sum2 = np.round(sum2,4)\n",
    "        ssd_beta.append(sum2)\n",
    "\n",
    "#gamma\n",
    "    for i in range(27):\n",
    "        diff = pow(output[18] - output[i],2)\n",
    "        sum3 = torch.sum(diff)\n",
    "        sum3 = sum3.numpy()/27\n",
    "        sum3 = np.round(sum3,5)\n",
    "        ssd_gamma.append(sum3)\n",
    "    \n",
    "    plt.figure(1)\n",
    "    x = arr\n",
    "    y = ssd_alpha\n",
    "    plt.scatter(x,y, label =10, color = \"red\" )\n",
    "    plt.xlabel(\"Image Index\")\n",
    "    plt.ylabel(\"SSD\")\n",
    "    plt.title(\"Alpha Image\")\n",
    "\n",
    "    plt.figure(2)\n",
    "    x = arr\n",
    "    y = ssd_beta\n",
    "    plt.scatter(x,y, label =10, color = \"blue\" )\n",
    "    plt.xlabel(\"Image Index\")\n",
    "    plt.ylabel(\"SSD\")\n",
    "    plt.title(\"Beta Image\")\n",
    "\n",
    "    plt.figure(3)\n",
    "    x = arr\n",
    "    y = ssd_gamma\n",
    "    plt.scatter(x,y, label =10, color = \"green\" )\n",
    "    plt.xlabel(\"Image Index\")\n",
    "    plt.ylabel(\"SSD\")\n",
    "    plt.title(\"Gamma Image\")\n",
    "    \n",
    "#task 3E: Function that reads in my own handwritten greek letters and puts in to a dataloader\n",
    "def MyGreek_Nist_Data():\n",
    "    transform = transforms.Compose([transforms.Resize([28,28]),\n",
    "                                transforms.Grayscale(num_output_channels = 1),\n",
    "                                transforms.ToTensor(), \n",
    "                                transforms.Normalize((0.1307),(0.3081))])\n",
    "    imgnames = ['001', '002']\n",
    "    for i in range(2):\n",
    "        path1 = '/MyGreek/alpha/alpha_' + imgnames[i] +'.png'\n",
    "        image1 = cv.imread(path1, cv.IMREAD_GRAYSCALE)\n",
    "        img1 = cv.bitwise_not(image1)\n",
    "        newpath1 = '/MyGreek_data/alpha/alpha_' + imgnames[i] + '.png' \n",
    "        cv.imwrite(newpath1,img1)\n",
    "    for i in range(2):\n",
    "        path2 = '/MyGreek/beta/beta_' + imgnames[i] +'.png'\n",
    "        image2 = cv.imread(path2, cv.IMREAD_GRAYSCALE)\n",
    "        img2 = cv.bitwise_not(image2)\n",
    "        newpath2 = '/MyGreek_data/beta/beta_' + imgnames[i] + '.png'         \n",
    "        cv.imwrite(newpath2,img2)\n",
    "    for i in range(2):\n",
    "        path3 = '/MyGreek/gamma/gamma_' + imgnames[i] +'.png'\n",
    "        image3 = cv.imread(path3, cv.IMREAD_GRAYSCALE)\n",
    "        img3 = cv.bitwise_not(image3)\n",
    "        newpath3 = '/MyGreek_data/gamma/gamma_' + imgnames[i] + '.png'         \n",
    "        cv.imwrite(newpath3,img3)\n",
    "        \n",
    "    myData = torchvision.datasets.ImageFolder('/MyGreek/', transform = transform)\n",
    "    set_loader = torch.utils.data.DataLoader(myData,batch_size=6,shuffle = False)\n",
    "    img_data,img_targets = next(iter(set_loader))\n",
    "    \n",
    "    return img_data, img_targets\n",
    "\n",
    "#Function that displays the SSD of the handwritten greek letters and plots them as in task 3D\n",
    "def MyGreek(output,output1):\n",
    "    arr = []\n",
    "    ssd_myalpha = []\n",
    "    #just for alpha\n",
    "    for i in range(6):\n",
    "        arr.append(i)\n",
    "        diff1 = pow(output[0]- output1[i],2)\n",
    "        sum2 = torch.sum(diff1)\n",
    "        sum2 = sum2.numpy()/33\n",
    "        sum2 = np.round(sum2,4)\n",
    "        ssd_myalpha.append(sum2)\n",
    "    \n",
    "    plt.figure(4)\n",
    "    x = arr\n",
    "    y = ssd_myalpha\n",
    "    plt.scatter(x,y, label =10, color = \"red\" )\n",
    "    plt.xlabel(\"Image Index\")\n",
    "    plt.ylabel(\"SSD\")\n",
    "    plt.title(\"My greek data comapred to alpha_001 from dataset\")"
   ]
  },
  {
   "cell_type": "code",
   "execution_count": 42,
   "id": "197aba93",
   "metadata": {},
   "outputs": [],
   "source": [
    "class task3_MyNet(nn.Module):\n",
    "    def __init__(self):\n",
    "        super(task3_MyNet,self).__init__()\n",
    "        self.conv1 = nn.Conv2d(1, 10, kernel_size=5)\n",
    "        self.conv2 = nn.Conv2d(10, 20, kernel_size=5)\n",
    "        self.fc1 = nn.Linear(320, 50)\n",
    "        self.flatten = nn.Flatten()\n",
    "        self.fc2 = nn.Linear(50, 10)\n",
    "\n",
    "\n",
    "    def forward(self,x):\n",
    "        x = F.relu(F.max_pool2d(self.conv1(x), 2))\n",
    "        x = F.relu(F.max_pool2d(F.dropout(self.conv2(x)), 2),0.5)\n",
    "        x = x.view(-1, 320)\n",
    "        x = F.relu(self.fc1(x))\n",
    "        return x"
   ]
  },
  {
   "cell_type": "code",
   "execution_count": 43,
   "id": "368b5a46",
   "metadata": {},
   "outputs": [],
   "source": [
    "#Main function that completes all of Task 3\n",
    "def main():\n",
    "    #task3A\n",
    "    model = task3_MyNet()\n",
    "    optimizer = optim.SGD(model.parameters(), lr=0.01,momentum=0.5)\n",
    "        \n",
    "    model.load_state_dict(torch.load(\"model.pth.tar\"))\n",
    "    optimizer.load_state_dict(torch.load(\"optimizer.pth.tar\"))\n",
    "\n",
    "    \n",
    "    img_data,img_targets = Greek_Nist_Data()\n",
    "    img_data1,img_targets1 = MyGreek_Nist_Data()\n",
    "    \n",
    "    with torch.no_grad():\n",
    "        output = model(img_data)  \n",
    "        output1 = model(img_data1)\n",
    "        \n",
    "    #task 3B\n",
    "    elem_vec(output)\n",
    "    \n",
    "    #task 3C\n",
    "    print(\"\\n One Element Vector of 50 Values\")\n",
    "    elem_vec2(output)\n",
    "    \n",
    "    #task 3D\n",
    "    print(\"\\n Element Vector of 27,50\")\n",
    "    ssd_al_be_ga(output)\n",
    "    \n",
    "    #task3E\n",
    "    MyGreek(output,output1)\n",
    "    "
   ]
  },
  {
   "cell_type": "code",
   "execution_count": 44,
   "id": "79ee3c86",
   "metadata": {},
   "outputs": [
    {
     "name": "stdout",
     "output_type": "stream",
     "text": [
      "Output Size of element vectors: torch.Size([50]) \n",
      " tensor([0.0000, 0.0000, 0.0000, 1.3785, 0.0000, 0.4650, 0.0000, 0.0000, 0.0000,\n",
      "        1.1671, 0.0000, 0.0000, 0.0000, 0.1534, 0.0000, 0.0000, 0.2547, 1.2911,\n",
      "        0.0000, 0.1423, 0.0000, 0.0000, 0.5517, 0.0000, 0.0000, 0.0000, 0.0000,\n",
      "        0.0000, 0.0000, 0.0000, 0.0000, 0.0000, 0.0000, 0.7098, 0.8122, 1.4140,\n",
      "        1.9583, 1.4375, 0.0000, 0.0000, 0.4297, 0.0000, 0.0000, 0.6055, 2.7021,\n",
      "        0.0000, 0.6870, 1.6607, 0.3102, 0.0000])\n",
      "\n",
      " One Element Vector of 50 Values\n",
      "Output Size of element vectors: torch.Size([27, 50]) \n",
      " tensor([[0.0000, 0.0000, 0.0000,  ..., 1.6607, 0.3102, 0.0000],\n",
      "        [0.0000, 0.0000, 0.0000,  ..., 1.2671, 0.4347, 0.0000],\n",
      "        [0.0000, 0.0980, 0.0000,  ..., 1.0614, 0.2545, 0.0000],\n",
      "        ...,\n",
      "        [0.9356, 0.0000, 0.0000,  ..., 0.3654, 0.0000, 0.5657],\n",
      "        [0.9282, 0.0000, 0.0000,  ..., 0.0000, 0.0000, 0.6132],\n",
      "        [0.3908, 0.1136, 0.0000,  ..., 0.2400, 0.0511, 0.5107]])\n",
      "\n",
      " Element Vector of 27,50\n"
     ]
    },
    {
     "data": {
      "image/png": "[encoded data removed]",
      "text/plain": [
       "<Figure size 432x288 with 1 Axes>"
      ]
     },
     "metadata": {
      "needs_background": "light"
     },
     "output_type": "display_data"
    },
    {
     "data": {
      "image/png": "[encoded data removed]",
      "text/plain": [
       "<Figure size 432x288 with 1 Axes>"
      ]
     },
     "metadata": {
      "needs_background": "light"
     },
     "output_type": "display_data"
    },
    {
     "data": {
      "image/png": "[encoded data removed]",
      "text/plain": [
       "<Figure size 432x288 with 1 Axes>"
      ]
     },
     "metadata": {
      "needs_background": "light"
     },
     "output_type": "display_data"
    },
    {
     "data": {
      "image/png": "[encoded data removed]",
      "text/plain": [
       "<Figure size 432x288 with 1 Axes>"
      ]
     },
     "metadata": {
      "needs_background": "light"
     },
     "output_type": "display_data"
    }
   ],
   "source": [
    "if __name__== \"__main__\":\n",
    "    main()"
   ]
  },
  {
   "cell_type": "code",
   "execution_count": null,
   "id": "8279c38f",
   "metadata": {},
   "outputs": [],
   "source": []
  },
  {
   "cell_type": "code",
   "execution_count": null,
   "id": "acbc1a06",
   "metadata": {},
   "outputs": [],
   "source": []
  }
 ],
 "metadata": {
  "kernelspec": {
   "display_name": "Python 3 (ipykernel)",
   "language": "python",
   "name": "python3"
  },
  "language_info": {
   "codemirror_mode": {
    "name": "ipython",
    "version": 3
   },
   "file_extension": ".py",
   "mimetype": "text/x-python",
   "name": "python",
   "nbconvert_exporter": "python",
   "pygments_lexer": "ipython3",
   "version": "3.8.8"
  }
 },
 "nbformat": 4,
 "nbformat_minor": 5
}
