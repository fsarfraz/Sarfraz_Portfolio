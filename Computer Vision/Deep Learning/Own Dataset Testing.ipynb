{
 "cells": [
  {
   "cell_type": "code",
   "execution_count": 1,
   "id": "84daa1fb",
   "metadata": {},
   "outputs": [],
   "source": [
    "import sys\n",
    "import os\n",
    "import glob\n",
    "import cv2 as cv\n",
    "import torch\n",
    "import torch.nn as nn\n",
    "import torch.nn.functional as F\n",
    "import torch.optim as optim\n",
    "import torchvision\n",
    "from torchvision import datasets,transforms\n",
    "import numpy as np\n",
    "import matplotlib.pyplot as plt\n",
    "from torchviz import make_dot, make_dot_from_trace\n",
    "%matplotlib inline"
   ]
  },
  {
   "cell_type": "code",
   "execution_count": 2,
   "id": "486e57f3",
   "metadata": {},
   "outputs": [],
   "source": [
    "# Returns a training set loader\n",
    "def train_set(batch_size_train):\n",
    "    train_loader = torch.utils.data.DataLoader(\n",
    "      torchvision.datasets.MNIST('/files/', train=True, download=True,\n",
    "                             transform=torchvision.transforms.Compose([\n",
    "                               torchvision.transforms.ToTensor(),\n",
    "                               torchvision.transforms.Normalize(\n",
    "                                 (0.1307,), (0.3081,))\n",
    "                             ])), batch_size=batch_size_train, shuffle=True)\n",
    "    return train_loader\n",
    "\n",
    "#Returns a test set loader        \n",
    "def test_set(batch_size_test):\n",
    "    test_loader = torch.utils.data.DataLoader(\n",
    "      torchvision.datasets.MNIST('/files/', train=False, download=True,\n",
    "                             transform=torchvision.transforms.Compose([\n",
    "                               torchvision.transforms.ToTensor(),\n",
    "                               torchvision.transforms.Normalize(\n",
    "                                 (0.1307,), (0.3081,))])),batch_size=batch_size_test, shuffle=True)\n",
    "\n",
    "    return test_loader\n",
    "\n",
    "#Function that displays max value from output of the model on Mnist and compares to ground truth\n",
    "def run_test(model,example_data, example_targets):\n",
    "    np.set_printoptions(suppress=True,threshold=sys.maxsize)\n",
    "    model.eval()\n",
    "    with torch.no_grad():\n",
    "        output = model(example_data)\n",
    "    fig = plt.figure()\n",
    "    for i in range (10):\n",
    "        out = np.round(output[i].numpy(),2)\n",
    "        maximum = np.argmax(out)\n",
    "        print(\"Output Values: image\",i,out, \"\\nMax Value Index : {}\".format(maximum),\"\\nCorrect Label: {}\\n\".format(example_targets[i]))\n",
    "        plt.subplot(3,4,i+1)\n",
    "        plt.tight_layout()\n",
    "        plt.imshow(example_data[i][0], cmap='gray', interpolation='none')\n",
    "        plt.title(\"Prediction: {}\".format(output.data.max(1, keepdim=True)[1][i].item()))\n",
    "        plt.xticks([])\n",
    "        plt.yticks([])\n",
    "\n",
    "#Function that assigns my own number set into a data set loader to used        \n",
    "def MyNist_Data():\n",
    "    transform = transforms.Compose([transforms.Resize([28,28]),\n",
    "                                transforms.Grayscale(num_output_channels = 1),\n",
    "                                transforms.ToTensor(), \n",
    "                                transforms.Normalize((0.1307),(0.3081))])\n",
    "    \n",
    "    imgnames = ['0', '1', '2', '3', '4','5','6','7', '8', '9']\n",
    "    for i in range(10):\n",
    "        path = '/MyNist/' + imgnames[i] +'.jpg'\n",
    "        image = cv.imread(path, cv.IMREAD_GRAYSCALE)\n",
    "        img = cv.bitwise_not(image)\n",
    "        newpath = '/MyNist_data/' + str(i) + '/' + str(i) + '.png' \n",
    "        cv.imwrite(newpath,img)\n",
    "    myData = torchvision.datasets.ImageFolder('/MyNist_data/', transform = transform)\n",
    "    set_loader = torch.utils.data.DataLoader(myData,batch_size=10,shuffle = False)\n",
    "    img_data,img_targets = next(iter(set_loader))\n",
    "    return img_data, img_targets\n",
    "\n",
    "#Function that displays my own data set and outputs prediction from the trained model\n",
    "def MyNist_plot(model,img_data):\n",
    "    model.eval()\n",
    "    with torch.no_grad():\n",
    "        output = model(img_data)  \n",
    "    fig = plt.figure()\n",
    "    for i in range(10):\n",
    "        plt.subplot(3,4,i+1)\n",
    "        plt.tight_layout()\n",
    "        plt.imshow(img_data[i][0], cmap='gray', interpolation='none')\n",
    "        plt.title(\"Prediction: {}\".format(\n",
    "            output.data.max(1, keepdim=True)[1][i].item()))\n",
    "        plt.xticks([])\n",
    "        plt.yticks([])"
   ]
  },
  {
   "cell_type": "code",
   "execution_count": 3,
   "id": "4784266a",
   "metadata": {},
   "outputs": [],
   "source": [
    "class MyNet(nn.Module):\n",
    "    #two conv filter(5x5 kerenels), dropout 50%, two linear layers, and a flatten layer\n",
    "    def __init__(self):\n",
    "        super(MyNet, self).__init__()\n",
    "        self.conv1 = nn.Conv2d(1, 10, kernel_size=5)\n",
    "        self.conv2 = nn.Conv2d(10, 20, kernel_size=5)\n",
    "        self.fc1 = nn.Linear(320, 50)\n",
    "        self.flatten = nn.Flatten()\n",
    "        self.fc2 = nn.Linear(50, 10)\n",
    "        \n",
    "    #feeds input in defined layers ad applies operations to the layer output\n",
    "    def forward(self, x):\n",
    "        x = F.relu(F.max_pool2d(self.conv1(x), 2))\n",
    "        x = F.relu(F.max_pool2d(F.dropout(self.conv2(x)), 2),0.5)\n",
    "        x = x.view(-1, 320)\n",
    "        x = self.flatten(x)\n",
    "        x = F.relu(self.fc1(x))\n",
    "        x = self.fc2(x)\n",
    "        \n",
    "        return F.log_softmax(x)"
   ]
  },
  {
   "cell_type": "code",
   "execution_count": 6,
   "id": "897587d4",
   "metadata": {},
   "outputs": [],
   "source": [
    "#Main function that displays tasks 1F-1G\n",
    "def main():\n",
    "    n_epochs = 5\n",
    "    batch_train = 32\n",
    "    batch_test = 1000\n",
    "    learning_rate = 0.01\n",
    "    momentum = 0.5\n",
    "    log_interval = 10\n",
    "\n",
    "    torch.backends.cudnn.enabled = False\n",
    "    torch.manual_seed(42)\n",
    "    train_loader = train_set(batch_train)\n",
    "    test_loader = test_set(batch_test)\n",
    "    \n",
    "    examples = enumerate(test_loader)\n",
    "    batch_idx, (example_data,example_targets)=next(examples)\n",
    "    \n",
    "    train_losses = []\n",
    "    train_counter = []\n",
    "    test_losses = []\n",
    "    test_counter = [i*len(train_loader.dataset) for i in range(n_epochs + 1)]\n",
    "\n",
    "    model = MyNet()\n",
    "    optimizer = optim.SGD(model.parameters(), lr=learning_rate,\n",
    "                      momentum=momentum)\n",
    "    \n",
    "    # Task 1F: loading in models from fileand Classifying 10 examples\n",
    "    print(\"\")\n",
    "    model.load_state_dict(torch.load(\"model.pth.tar\"))\n",
    "    optimizer.load_state_dict(torch.load(\"optimizer.pth.tar\"))\n",
    "    run_test(model,example_data, example_targets)\n",
    "    \n",
    "    #Task 1G: Own uploaded Nist data and plotted predictions\n",
    "    img_data,img_targets = MyNist_Data()\n",
    "    MyNist_plot(model,img_data)\n",
    "    "
   ]
  },
  {
   "cell_type": "code",
   "execution_count": 7,
   "id": "6b142a21",
   "metadata": {},
   "outputs": [
    {
     "name": "stdout",
     "output_type": "stream",
     "text": [
      "\n",
      "Output Values: image 0 [-18.44 -20.06 -14.86 -11.82 -10.81 -14.47 -21.05 -10.72  -8.8   -0.  ] \n",
      "Max Value Index : 9 \n",
      "Correct Label: 9\n",
      "\n",
      "Output Values: image 1 [-10.59  -4.19  -4.8   -0.56  -6.55  -4.11 -12.78  -1.11  -6.23  -2.88] \n",
      "Max Value Index : 3 \n",
      "Correct Label: 3\n",
      "\n",
      "Output Values: image 2 [ -0.   -17.71 -13.27 -12.1  -13.48 -12.83 -11.42 -20.48 -17.82  -5.72] \n",
      "Max Value Index : 0 \n",
      "Correct Label: 0\n",
      "\n",
      "Output Values: image 3 [-17.73 -14.68 -15.06  -9.81  -8.56 -12.12 -21.37  -9.27 -13.15  -0.  ] \n",
      "Max Value Index : 9 \n",
      "Correct Label: 9\n",
      "\n"
     ]
    },
    {
     "name": "stderr",
     "output_type": "stream",
     "text": [
      "<ipython-input-3-51c1078791de>:18: UserWarning: Implicit dimension choice for log_softmax has been deprecated. Change the call to include dim=X as an argument.\n",
      "  return F.log_softmax(x)\n"
     ]
    },
    {
     "name": "stdout",
     "output_type": "stream",
     "text": [
      "Output Values: image 4 [-20.77 -19.23 -17.21  -6.37 -22.89  -0.   -17.13 -23.08 -12.6  -10.41] \n",
      "Max Value Index : 5 \n",
      "Correct Label: 5\n",
      "\n",
      "Output Values: image 5 [-10.16  -0.    -9.48 -13.75  -7.86 -14.14 -14.31  -6.65 -11.64 -12.22] \n",
      "Max Value Index : 1 \n",
      "Correct Label: 1\n",
      "\n",
      "Output Values: image 6 [-10.38  -0.75  -7.8  -11.42  -0.65  -9.19  -7.97  -6.42  -5.41 -10.35] \n",
      "Max Value Index : 4 \n",
      "Correct Label: 4\n",
      "\n",
      "Output Values: image 7 [-12.96 -17.62  -9.74 -11.85 -14.7  -12.54 -14.69 -14.03  -0.    -6.88] \n",
      "Max Value Index : 8 \n",
      "Correct Label: 8\n",
      "\n",
      "Output Values: image 8 [ -0.   -20.7  -11.41 -17.26 -20.29 -15.33 -10.37 -18.94 -12.97 -12.87] \n",
      "Max Value Index : 0 \n",
      "Correct Label: 0\n",
      "\n",
      "Output Values: image 9 [ -2.62  -0.18  -3.64  -8.93  -5.94 -11.18  -7.69  -7.72  -2.75  -7.97] \n",
      "Max Value Index : 1 \n",
      "Correct Label: 1\n",
      "\n"
     ]
    },
    {
     "data": {
      "image/png": "[encoded data removed]",
      "text/plain": [
       "<Figure size 432x288 with 10 Axes>"
      ]
     },
     "metadata": {},
     "output_type": "display_data"
    },
    {
     "data": {
      "image/png": "[encoded data removed]",
      "text/plain": [
       "<Figure size 432x288 with 10 Axes>"
      ]
     },
     "metadata": {},
     "output_type": "display_data"
    }
   ],
   "source": [
    "if __name__== \"__main__\":\n",
    "    main()"
   ]
  }
 ],
 "metadata": {
  "kernelspec": {
   "display_name": "Python 3 (ipykernel)",
   "language": "python",
   "name": "python3"
  },
  "language_info": {
   "codemirror_mode": {
    "name": "ipython",
    "version": 3
   },
   "file_extension": ".py",
   "mimetype": "text/x-python",
   "name": "python",
   "nbconvert_exporter": "python",
   "pygments_lexer": "ipython3",
   "version": "3.8.8"
  }
 },
 "nbformat": 4,
 "nbformat_minor": 5
}
