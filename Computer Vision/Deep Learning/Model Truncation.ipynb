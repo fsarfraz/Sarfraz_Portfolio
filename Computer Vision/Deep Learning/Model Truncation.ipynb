{
 "cells": [
  {
   "cell_type": "code",
   "execution_count": 18,
   "id": "06c09100",
   "metadata": {},
   "outputs": [],
   "source": [
    "import sys\n",
    "import os\n",
    "import glob\n",
    "import cv2 as cv\n",
    "import torch\n",
    "import torch.nn as nn\n",
    "import torch.nn.functional as F\n",
    "import torch.optim as optim\n",
    "import torchvision\n",
    "from torchvision import datasets,transforms\n",
    "import numpy as np\n",
    "import matplotlib.pyplot as plt\n",
    "from torchviz import make_dot, make_dot_from_trace\n",
    "%matplotlib inline\n"
   ]
  },
  {
   "cell_type": "code",
   "execution_count": 27,
   "id": "36a208dd",
   "metadata": {},
   "outputs": [],
   "source": [
    "# Returns a training set loader\n",
    "def train_set(batch_size_train):\n",
    "    train_loader = torch.utils.data.DataLoader(\n",
    "      torchvision.datasets.MNIST('/files/', train=True, download=True,\n",
    "                             transform=torchvision.transforms.Compose([\n",
    "                               torchvision.transforms.ToTensor(),\n",
    "                               torchvision.transforms.Normalize(\n",
    "                                 (0.1307,), (0.3081,))\n",
    "                             ])), batch_size=batch_size_train, shuffle=True)\n",
    "    return train_loader\n",
    "\n",
    "#Returns a test set loader        \n",
    "def test_set(batch_size_test):\n",
    "    test_loader = torch.utils.data.DataLoader(\n",
    "      torchvision.datasets.MNIST('/files/', train=False, download=True,\n",
    "                             transform=torchvision.transforms.Compose([\n",
    "                               torchvision.transforms.ToTensor(),\n",
    "                               torchvision.transforms.Normalize(\n",
    "                                 (0.1307,), (0.3081,))])),batch_size=batch_size_test, shuffle=True)\n",
    "\n",
    "    return test_loader\n",
    "\n",
    "#function that loads previous trained model on to new models for task 2\n",
    "#function also prints out model functions for the forward passs\n",
    "def load_models(model1,model2):\n",
    "    print(\"Loading Models\")\n",
    "    model1.load_state_dict(torch.load(\"model.pth.tar\"))\n",
    "    model2.load_state_dict(torch.load(\"model.pth.tar\"))\n",
    "\n",
    "    optimizer1 = optim.SGD(model1.parameters(), lr=0.01,\n",
    "                      momentum=0.5)\n",
    "    optimizer2 = optim.SGD(model2.parameters(), lr=0.01,\n",
    "                      momentum=0.5)\n",
    "    optimizer1.load_state_dict(torch.load(\"optimizer.pth.tar\"))\n",
    "    optimizer2.load_state_dict(torch.load(\"optimizer.pth.tar\"))\n",
    "\n",
    "    print(model1)\n",
    "    for param_tensor in model1.state_dict():\n",
    "        print(param_tensor, \"\\t\", model1.state_dict()[param_tensor].size())\n",
    "        \n",
    "#Function that vizualizes the ten filters from the weight 1 of model\n",
    "def show_filters(model):\n",
    "    w1 = model.conv1.weight.data.numpy()\n",
    "    plt.figure()\n",
    "    for i in range (10):\n",
    "        plt.subplot(3,4,i+1)\n",
    "        plt.tight_layout()\n",
    "        plt.imshow(w1[i,0])\n",
    "        plt.title(\"Filter: {}\".format(i))\n",
    "        plt.xticks([])\n",
    "        plt.yticks([])\n",
    "\n",
    "#Function that convolves the filters on the image in grayscale and outputs the filters and the effect on the image\n",
    "def effect_ofFilters(model,example_data):\n",
    "    model.eval()\n",
    "    with torch.no_grad():\n",
    "        output = model(example_data)\n",
    "    w1 = model.conv1.weight.data.numpy()\n",
    "    img1 = example_data[0][0]\n",
    "    img1 = np.array(img1)\n",
    "    plt.figure(1)\n",
    "    for i in range (10):\n",
    "        filtered_imgs = cv.filter2D(img1,-1,w1[i,0])\n",
    "        plt.subplot(3,4,i+1)\n",
    "        plt.tight_layout()\n",
    "        plt.imshow(filtered_imgs, cmap='gray',interpolation='none')\n",
    "        plt.xticks([])\n",
    "        plt.yticks([])\n",
    "\n",
    "    plt.figure(2)\n",
    "    for i in range (10):\n",
    "        plt.subplot(3,4,i+1)\n",
    "        plt.tight_layout()\n",
    "        plt.imshow(w1[i,0], cmap='gray',interpolation='none')\n",
    "        plt.xticks([])\n",
    "        plt.yticks([])\n",
    "        \n",
    "# Evaluates the 4x4 output of a truncated model at which the forward pass stops at the 2nd convolutional layer\n",
    "def trunc_model(model2,example_data):\n",
    "    model2.eval()\n",
    "    with torch.no_grad():\n",
    "        output = model2(example_data)\n",
    "    out = output[1]\n",
    "    out = np.array(out)\n",
    "    size = out.shape\n",
    "    print(\"Output size of truncated Model:\", size)\n",
    "    plt.figure(1)\n",
    "    for i in range (12):\n",
    "        plt.subplot(3,4,i+1)\n",
    "        plt.tight_layout()\n",
    "        plt.imshow(output[0][i], cmap='gray',interpolation='none')\n",
    "        plt.title(\"Channel : {}\".format(i))\n",
    "        plt.xticks([])\n",
    "        plt.yticks([])"
   ]
  },
  {
   "cell_type": "code",
   "execution_count": 28,
   "id": "62ffbbe7",
   "metadata": {},
   "outputs": [],
   "source": [
    "class MyNet(nn.Module):\n",
    "    #two conv filter(5x5 kerenels), dropout 50%, two linear layers, and a flatten layer\n",
    "    def __init__(self):\n",
    "        super(MyNet, self).__init__()\n",
    "        self.conv1 = nn.Conv2d(1, 10, kernel_size=5)\n",
    "        self.conv2 = nn.Conv2d(10, 20, kernel_size=5)\n",
    "        self.fc1 = nn.Linear(320, 50)\n",
    "        self.flatten = nn.Flatten()\n",
    "        self.fc2 = nn.Linear(50, 10)\n",
    "        \n",
    "    #feeds input in defined layers ad applies operations to the layer output\n",
    "    def forward(self, x):\n",
    "        x = F.relu(F.max_pool2d(self.conv1(x), 2))\n",
    "        x = F.relu(F.max_pool2d(F.dropout(self.conv2(x)), 2),0.5)\n",
    "        x = x.view(-1, 320)\n",
    "        x = self.flatten(x)\n",
    "        x = F.relu(self.fc1(x))\n",
    "        x = self.fc2(x)\n",
    "        \n",
    "        return F.log_softmax(x)\n",
    "    \n",
    "#Truncated model of above network, in which forward pass stops at second convolutional layer\n",
    "class Submodel_MyNet(nn.Module):\n",
    "    def __init__(self):\n",
    "        super(Submodel_MyNet,self).__init__()\n",
    "        self.conv1 = nn.Conv2d(1, 10, kernel_size=5)\n",
    "        self.conv2 = nn.Conv2d(10, 20, kernel_size=5)\n",
    "        self.fc1 = nn.Linear(320, 50)\n",
    "        self.flatten = nn.Flatten()\n",
    "        self.fc2 = nn.Linear(50, 10)\n",
    "        \n",
    "    def forward(self,x):\n",
    "        x = F.relu(F.max_pool2d(self.conv1(x), 2))\n",
    "        x = F.relu(F.max_pool2d(F.dropout(self.conv2(x)), 2),0.5)\n",
    "        return x\n"
   ]
  },
  {
   "cell_type": "code",
   "execution_count": 33,
   "id": "c1724c96",
   "metadata": {},
   "outputs": [],
   "source": [
    "#Main function that executes all the functions to present all of Task 2\n",
    "def main():\n",
    "    n_epochs = 3\n",
    "    batch_train = 64\n",
    "    batch_test = 1000\n",
    "\n",
    "    torch.backends.cudnn.enabled = False\n",
    "    torch.manual_seed(42)\n",
    "    \n",
    "    test_loader = test_set(batch_test)\n",
    "    train_loader = train_set(batch_train)\n",
    "    \n",
    "    examples = enumerate(test_loader)\n",
    "    batch_idx, (example_data,example_targets)=next(examples)\n",
    "\n",
    "    model1 = MyNet()\n",
    "    model2 = Submodel_MyNet()\n",
    "        \n",
    "    #task2A: visualize ten filters\n",
    "    print(\"task2A\")\n",
    "    show_filters(model1)\n",
    "    \n",
    "    #Task 2B: show effects of filters\n",
    "    print(\"Task2B\")\n",
    "    effect_ofFilters(model1,example_data)\n",
    "    \n",
    "    #Task 2C: second layet output of truncated model\n",
    "    print(\"Task2C\")\n",
    "    trunc_model(model2,example_data)"
   ]
  },
  {
   "cell_type": "code",
   "execution_count": 34,
   "id": "316d174c",
   "metadata": {},
   "outputs": [
    {
     "name": "stdout",
     "output_type": "stream",
     "text": [
      "task2A\n",
      "Task2B\n"
     ]
    },
    {
     "name": "stderr",
     "output_type": "stream",
     "text": [
      "<ipython-input-28-d6fbcefe0f75>:18: UserWarning: Implicit dimension choice for log_softmax has been deprecated. Change the call to include dim=X as an argument.\n",
      "  return F.log_softmax(x)\n",
      "<ipython-input-27-7838890a1755>:60: MatplotlibDeprecationWarning: Adding an axes using the same arguments as a previous axes currently reuses the earlier instance.  In a future version, a new instance will always be created and returned.  Meanwhile, this warning can be suppressed, and the future behavior ensured, by passing a unique label to each axes instance.\n",
      "  plt.subplot(3,4,i+1)\n"
     ]
    },
    {
     "name": "stdout",
     "output_type": "stream",
     "text": [
      "Task2C\n",
      "Output size of truncated Model: (20, 4, 4)\n"
     ]
    },
    {
     "name": "stderr",
     "output_type": "stream",
     "text": [
      "<ipython-input-27-7838890a1755>:85: MatplotlibDeprecationWarning: Adding an axes using the same arguments as a previous axes currently reuses the earlier instance.  In a future version, a new instance will always be created and returned.  Meanwhile, this warning can be suppressed, and the future behavior ensured, by passing a unique label to each axes instance.\n",
      "  plt.subplot(3,4,i+1)\n"
     ]
    },
    {
     "data": {
      "image/png": "[encoded data removed]",
      "text/plain": [
       "<Figure size 432x288 with 10 Axes>"
      ]
     },
     "metadata": {},
     "output_type": "display_data"
    },
    {
     "data": {
      "image/png": "[encoded data removed]",
      "text/plain": [
       "<Figure size 432x288 with 12 Axes>"
      ]
     },
     "metadata": {},
     "output_type": "display_data"
    }
   ],
   "source": [
    "if __name__== \"__main__\":\n",
    "    main()"
   ]
  },
  {
   "cell_type": "code",
   "execution_count": null,
   "id": "faeec6ca",
   "metadata": {},
   "outputs": [],
   "source": []
  },
  {
   "cell_type": "code",
   "execution_count": null,
   "id": "f77e2bb7",
   "metadata": {},
   "outputs": [],
   "source": []
  }
 ],
 "metadata": {
  "kernelspec": {
   "display_name": "Python 3 (ipykernel)",
   "language": "python",
   "name": "python3"
  },
  "language_info": {
   "codemirror_mode": {
    "name": "ipython",
    "version": 3
   },
   "file_extension": ".py",
   "mimetype": "text/x-python",
   "name": "python",
   "nbconvert_exporter": "python",
   "pygments_lexer": "ipython3",
   "version": "3.8.8"
  }
 },
 "nbformat": 4,
 "nbformat_minor": 5
}
